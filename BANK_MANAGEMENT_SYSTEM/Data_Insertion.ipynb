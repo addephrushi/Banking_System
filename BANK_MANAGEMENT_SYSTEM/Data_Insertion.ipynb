{
 "cells": [
  {
   "cell_type": "code",
   "execution_count": 2,
   "metadata": {},
   "outputs": [
    {
     "name": "stdout",
     "output_type": "stream",
     "text": [
      "Collecting mysql-connector-python\n",
      "  Downloading mysql_connector_python-8.0.29-cp38-cp38-win_amd64.whl (7.7 MB)\n",
      "Requirement already satisfied: protobuf>=3.0.0 in c:\\users\\addep\\anaconda3\\lib\\site-packages (from mysql-connector-python) (3.14.0)\n",
      "Requirement already satisfied: six>=1.9 in c:\\users\\addep\\anaconda3\\lib\\site-packages (from protobuf>=3.0.0->mysql-connector-python) (1.15.0)\n",
      "Installing collected packages: mysql-connector-python\n",
      "Successfully installed mysql-connector-python-8.0.29\n",
      "Note: you may need to restart the kernel to use updated packages.\n"
     ]
    }
   ],
   "source": [
    "# pip install mysql-connector-python"
   ]
  },
  {
   "cell_type": "code",
   "execution_count": 1,
   "metadata": {},
   "outputs": [],
   "source": [
    "import mysql.connector\n",
    "import pandas as pd"
   ]
  },
  {
   "cell_type": "code",
   "execution_count": 2,
   "metadata": {},
   "outputs": [],
   "source": [
    "connection = mysql.connector.connect(host='localhost',user='root',password='Efgeghnlrtq@123')"
   ]
  },
  {
   "cell_type": "code",
   "execution_count": 3,
   "metadata": {},
   "outputs": [],
   "source": [
    "cursor = connection.cursor()"
   ]
  },
  {
   "cell_type": "code",
   "execution_count": 6,
   "metadata": {},
   "outputs": [],
   "source": [
    "cursor.execute('CREATE DATABASE BANK_PROJ')"
   ]
  },
  {
   "cell_type": "code",
   "execution_count": 7,
   "metadata": {},
   "outputs": [],
   "source": [
    "cursor.execute('USE BANK_PROJ')\n"
   ]
  },
  {
   "cell_type": "code",
   "execution_count": 11,
   "metadata": {},
   "outputs": [],
   "source": [
    "create_query_BANK_DETAILS = '''\n",
    "CREATE TABLE BANK_DETAILS\n",
    "(\n",
    "BID VARCHAR(20) PRIMARY KEY,\n",
    "BNAME VARCHAR(50)\n",
    ")\n",
    "'''"
   ]
  },
  {
   "cell_type": "code",
   "execution_count": 14,
   "metadata": {},
   "outputs": [],
   "source": [
    "create_query_CUSTOMERS = '''\n",
    "CREATE TABLE CUSTOMERS(\n",
    "CID INT PRIMARY KEY AUTO_INCREMENT ,\n",
    "CNAME VARCHAR(30),\n",
    "CTYPE ENUM( \"C\" , \"R\") ,\n",
    "ACC_NO BIGINT  ,\n",
    "BRID VARCHAR(20) ,\n",
    "PAR_ACC VARCHAR(30)\n",
    ") ;\n",
    "'''"
   ]
  },
  {
   "cell_type": "code",
   "execution_count": 15,
   "metadata": {},
   "outputs": [],
   "source": [
    "create_query_BRANCH_DETAILS = '''\n",
    "CREATE TABLE BRANCH_DETAILS (\n",
    "BRID VARCHAR(20) PRIMARY KEY,\n",
    "BID VARCHAR(20) ,\n",
    "BRNAME VARCHAR(30),\n",
    "BTYPE ENUM(\"CORPORATE\" , \"RETAIL\")\n",
    ") ;\n",
    "'''"
   ]
  },
  {
   "cell_type": "code",
   "execution_count": 12,
   "metadata": {},
   "outputs": [],
   "source": [
    "cursor.execute(create_query_BANK_DETAILS)"
   ]
  },
  {
   "cell_type": "code",
   "execution_count": 16,
   "metadata": {},
   "outputs": [],
   "source": [
    "cursor.execute(create_query_CUSTOMERS)CUSTOMERS"
   ]
  },
  {
   "cell_type": "code",
   "execution_count": 17,
   "metadata": {},
   "outputs": [],
   "source": [
    "cursor.execute(create_query_BRANCH_DETAILS)"
   ]
  },
  {
   "cell_type": "code",
   "execution_count": 18,
   "metadata": {},
   "outputs": [],
   "source": [
    "insert_query_BANK_DETAILS = '''\n",
    "INSERT INTO BANK_DETAILS VALUES (%s,%s);\n",
    "'''"
   ]
  },
  {
   "cell_type": "code",
   "execution_count": 19,
   "metadata": {},
   "outputs": [
    {
     "data": {
      "text/plain": [
       "[('HDFC', 'HDFC BANK'),\n",
       " ('ICICI ', 'ICICI BANK'),\n",
       " ('AXIS', 'AXIS BANK'),\n",
       " ('KOTAK', 'KOTAK'),\n",
       " ('SBI', 'SBI')]"
      ]
     },
     "execution_count": 19,
     "metadata": {},
     "output_type": "execute_result"
    }
   ],
   "source": [
    "df = pd.read_excel('BANK_DETAILS.xlsx')\n",
    "l = [tuple(i) for i in df.values]\n",
    "l"
   ]
  },
  {
   "cell_type": "code",
   "execution_count": 21,
   "metadata": {},
   "outputs": [],
   "source": [
    "cursor.executemany(insert_query_BANK_DETAILS,l)"
   ]
  },
  {
   "cell_type": "code",
   "execution_count": 35,
   "metadata": {},
   "outputs": [
    {
     "name": "stdout",
     "output_type": "stream",
     "text": [
      "('BID', 'BNAME')\n",
      "('AXIS', 'AXIS BANK')\n",
      "('HDFC', 'HDFC BANK')\n",
      "('ICICI ', 'ICICI BANK')\n",
      "('KOTAK', 'KOTAK')\n",
      "('SBI', 'SBI')\n"
     ]
    }
   ],
   "source": [
    "cursor.execute('SELECT * FROM BANK_DETAILS')\n",
    "records = cursor.fetchall()\n",
    "print(cursor.column_names)\n",
    "for i in records:\n",
    "    print(i)"
   ]
  },
  {
   "cell_type": "code",
   "execution_count": 36,
   "metadata": {},
   "outputs": [],
   "source": [
    "insert_query_CUSTOMERS = '''\n",
    "INSERT INTO CUSTOMERS VALUES (%s,%s,%s,%s,%s,%s);\n",
    "'''"
   ]
  },
  {
   "cell_type": "code",
   "execution_count": 40,
   "metadata": {},
   "outputs": [],
   "source": [
    "df = pd.read_excel('CUSTOMERS.xlsx')\n",
    "l = [tuple(i) for i in df.values]"
   ]
  },
  {
   "cell_type": "code",
   "execution_count": 38,
   "metadata": {},
   "outputs": [],
   "source": [
    "cursor.executemany(insert_query_CUSTOMERS,l)"
   ]
  },
  {
   "cell_type": "code",
   "execution_count": 39,
   "metadata": {
    "scrolled": true
   },
   "outputs": [
    {
     "name": "stdout",
     "output_type": "stream",
     "text": [
      "('CID', 'CNAME', 'CTYPE', 'ACC_NO', 'BRID', 'PAR_ACC')\n",
      "(1001, 'FUTURENSE', 'C', 2000001, 'HDFC_01', 'FUTURENSE')\n",
      "(1002, 'ABC', 'R', 2000002, 'HDFC_02', 'FUTURENSE')\n",
      "(1003, 'ABD', 'R', 2000003, 'HDFC_02', 'FUTURENSE')\n",
      "(1004, 'ABE', 'R', 2000004, 'HDFC_02', 'FUTURENSE')\n",
      "(1005, 'ACF', 'R', 2000005, 'HDFC_02', 'FUTURENSE')\n",
      "(1006, 'MILES', 'C', 2000006, 'HDFC_03', 'MILES')\n",
      "(1007, 'BAA', 'R', 2000007, 'HDFC_04', 'MILES')\n",
      "(1008, 'BAB', 'R', 2000008, 'HDFC_04', 'MILES')\n",
      "(1009, 'BAC', 'R', 2000009, 'HDFC_04', 'MILES')\n",
      "(1010, 'BAD', 'R', 2000010, 'HDFC_04', 'MILES')\n",
      "(1011, 'MOJO', 'C', 2000011, 'HDFC_05', 'MOJO')\n",
      "(1012, 'CAA', 'R', 2000012, 'HDFC_06', 'MOJO')\n",
      "(1013, 'CAB', 'R', 2000013, 'HDFC_06', 'MOJO')\n",
      "(1014, 'CAC', 'R', 2000014, 'HDFC_06', 'MOJO')\n",
      "(1015, 'CAD', 'R', 2000015, 'HDFC_06', 'MOJO')\n",
      "(1016, 'MAJA', 'C', 2000016, 'HDFC_07', 'MAJA')\n",
      "(1017, 'DAA', 'R', 2000017, 'HDFC_08', 'MAJA')\n",
      "(1018, 'DAB', 'R', 2000018, 'HDFC_08', 'MAJA')\n",
      "(1019, 'DAC', 'R', 2000019, 'HDFC_08', 'MAJA')\n",
      "(1020, 'DAD', 'R', 2000020, 'HDFC_08', 'MAJA')\n",
      "(1021, 'FUTURENSE', 'C', 2000021, 'ICICI_01', 'FUTURENSE')\n",
      "(1022, 'EAA', 'R', 2000022, 'ICICI_02', 'FUTURENSE')\n",
      "(1023, 'EAB', 'R', 2000023, 'ICICI_02', 'FUTURENSE')\n",
      "(1024, 'EAC', 'R', 2000024, 'ICICI_02', 'FUTURENSE')\n",
      "(1025, 'EAD', 'R', 2000025, 'ICICI_02', 'FUTURENSE')\n",
      "(1026, 'MILES', 'C', 2000026, 'ICICI_03', 'MILES')\n",
      "(1027, 'FAA', 'R', 2000027, 'ICICI_04', 'MILES')\n",
      "(1028, 'FAB', 'R', 2000028, 'ICICI_04', 'MILES')\n",
      "(1029, 'FAC', 'R', 2000029, 'ICICI_04', 'MILES')\n",
      "(1030, 'FAD', 'R', 2000030, 'ICICI_04', 'MILES')\n",
      "(1031, 'MOJO', 'C', 2000031, 'ICICI_05', 'MOJO')\n",
      "(1032, 'GAA', 'R', 2000032, 'ICICI_06', 'MOJO')\n",
      "(1033, 'GAB', 'R', 2000033, 'ICICI_06', 'MOJO')\n",
      "(1034, 'GAC', 'R', 2000034, 'ICICI_06', 'MOJO')\n",
      "(1035, 'GAD', 'R', 2000035, 'ICICI_06', 'MOJO')\n",
      "(1036, 'FUTURENSE', 'C', 2000036, 'AXIS_01', 'FUTURENSE')\n",
      "(1037, 'HAA', 'R', 2000037, 'AXIS_02', 'FUTURENSE')\n",
      "(1038, 'HAB', 'R', 2000038, 'AXIS_02', 'FUTURENSE')\n",
      "(1039, 'HAC', 'R', 2000039, 'AXIS_02', 'FUTURENSE')\n",
      "(1040, 'HAD', 'R', 2000040, 'AXIS_02', 'FUTURENSE')\n",
      "(1041, 'MILES', 'C', 2000041, 'AXIS_03', 'MILES')\n",
      "(1042, 'IAA', 'R', 2000042, 'AXIS_04', 'MILES')\n",
      "(1043, 'IAB', 'R', 2000043, 'AXIS_04', 'MILES')\n",
      "(1044, 'IAC', 'R', 2000044, 'AXIS_04', 'MILES')\n",
      "(1045, 'IAD', 'R', 2000045, 'AXIS_04', 'MILES')\n",
      "(1046, 'MOJO', 'C', 2000046, 'AXIS_05', 'MOJO')\n",
      "(1047, 'JAA', 'R', 2000047, 'AXIS_06', 'MOJO')\n",
      "(1048, 'JAB', 'R', 2000048, 'AXIS_06', 'MOJO')\n",
      "(1049, 'JAC', 'R', 2000049, 'AXIS_06', 'MOJO')\n",
      "(1050, 'JAD', 'R', 2000050, 'AXIS_06', 'MOJO')\n",
      "(1051, 'FUTURENSE', 'C', 2000051, 'KOTAK_01', 'FUTURENSE')\n",
      "(1052, 'KAA', 'R', 2000052, 'KOTAK_02', 'FUTURENSE')\n",
      "(1053, 'KAB', 'R', 2000053, 'KOTAK_02', 'FUTURENSE')\n",
      "(1054, 'KAC', 'R', 2000054, 'KOTAK_02', 'FUTURENSE')\n",
      "(1055, 'KAD', 'R', 2000055, 'KOTAK_02', 'FUTURENSE')\n",
      "(1056, 'MILES', 'C', 2000056, 'KOTAK_03', 'MILES')\n",
      "(1057, 'LAA', 'R', 2000057, 'KOTAK_04', 'MILES')\n",
      "(1058, 'LAB', 'R', 2000058, 'KOTAK_04', 'MILES')\n",
      "(1059, 'LAC', 'R', 2000059, 'KOTAK_04', 'MILES')\n",
      "(1060, 'LAD', 'R', 2000060, 'KOTAK_04', 'MILES')\n",
      "(1061, 'MOJO', 'C', 2000061, 'KOTAK_05', 'MOJO')\n",
      "(1062, 'MAA', 'R', 2000062, 'KOTAK_06', 'MOJO')\n",
      "(1063, 'MAB', 'R', 2000063, 'KOTAK_06', 'MOJO')\n",
      "(1064, 'MAC', 'R', 2000064, 'KOTAK_06', 'MOJO')\n",
      "(1065, 'MAD', 'R', 2000065, 'KOTAK_06', 'MOJO')\n",
      "(1066, 'FUTURENSE', 'C', 2000066, 'SBI_01', 'FUTURENSE')\n",
      "(1067, 'NAA', 'R', 2000067, 'SBI_02', 'FUTURENSE')\n",
      "(1068, 'NAB', 'R', 2000068, 'SBI_02', 'FUTURENSE')\n",
      "(1069, 'NAC', 'R', 2000069, 'SBI_02', 'FUTURENSE')\n",
      "(1070, 'NAD', 'R', 2000070, 'SBI_02', 'FUTURENSE')\n",
      "(1071, 'MILES', 'C', 2000071, 'SBI_03', 'MILES')\n",
      "(1072, 'OAA', 'R', 2000072, 'SBI_04', 'MILES')\n",
      "(1073, 'OAB', 'R', 2000073, 'SBI_04', 'MILES')\n",
      "(1074, 'OAC', 'R', 2000074, 'SBI_04', 'MILES')\n",
      "(1075, 'OAD', 'R', 2000075, 'SBI_04', 'MILES')\n",
      "(1076, 'MOJO', 'C', 2000076, 'SBI_05', 'MOJO')\n",
      "(1077, 'PAA', 'R', 2000077, 'SBI_06', 'MOJO')\n",
      "(1078, 'PAB', 'R', 2000078, 'SBI_06', 'MOJO')\n",
      "(1079, 'PAC', 'R', 2000079, 'SBI_06', 'MOJO')\n",
      "(1080, 'PAD', 'R', 2000080, 'SBI_06', 'MOJO')\n",
      "(1081, 'MAJA', 'C', 2000081, 'SBI_07', 'MAJA')\n",
      "(1082, 'QAA', 'R', 2000082, 'SBI_08', 'MAJA')\n",
      "(1083, 'QAB', 'R', 2000083, 'SBI_08', 'MAJA')\n",
      "(1084, 'QAC', 'R', 2000084, 'SBI_08', 'MAJA')\n",
      "(1085, 'QAD', 'R', 2000085, 'SBI_08', 'MAJA')\n",
      "(1086, 'OLA', 'C', 2000086, 'SBI_09', 'OLA')\n",
      "(1087, 'RAA', 'R', 2000087, 'SBI_10', 'OLA')\n",
      "(1088, 'RAB', 'R', 2000088, 'SBI_10', 'OLA')\n",
      "(1089, 'RAC', 'R', 2000089, 'SBI_10', 'OLA')\n",
      "(1090, 'RAD', 'R', 2000090, 'SBI_10', 'OLA')\n"
     ]
    }
   ],
   "source": [
    "cursor.execute('SELECT * FROM CUSTOMERS')\n",
    "records = cursor.fetchall()\n",
    "print(cursor.column_names)\n",
    "for i in records:\n",
    "    print(i)"
   ]
  },
  {
   "cell_type": "code",
   "execution_count": 41,
   "metadata": {},
   "outputs": [],
   "source": [
    "insert_query_BANK_DETAILS = '''\n",
    "INSERT INTO BRANCH_DETAILS VALUES (%s,%s,%s,%s);\n",
    "'''"
   ]
  },
  {
   "cell_type": "code",
   "execution_count": 42,
   "metadata": {},
   "outputs": [],
   "source": [
    "df = pd.read_excel('BRANCH_DETAILS.xlsx')\n",
    "l = [tuple(i) for i in df.values]"
   ]
  },
  {
   "cell_type": "code",
   "execution_count": 43,
   "metadata": {},
   "outputs": [],
   "source": [
    "cursor.executemany(insert_query_BANK_DETAILS,l)"
   ]
  },
  {
   "cell_type": "code",
   "execution_count": 44,
   "metadata": {
    "scrolled": true
   },
   "outputs": [
    {
     "name": "stdout",
     "output_type": "stream",
     "text": [
      "('BRID', 'BID', 'BRNAME', 'BTYPE')\n",
      "('AXIS_01', 'AXIS', 'KORAMANGALA', 'CORPORATE')\n",
      "('AXIS_02', 'AXIS', 'KORAMANGALA', 'RETAIL')\n",
      "('AXIS_03', 'AXIS', 'SILK BOARD', 'CORPORATE')\n",
      "('AXIS_04', 'AXIS', 'SILK BOARD', 'RETAIL')\n",
      "('AXIS_05', 'AXIS', 'MARATHALLI', 'CORPORATE')\n",
      "('AXIS_06', 'AXIS', 'MARATHALLI', 'RETAIL')\n",
      "('HDFC_01', 'HDFC', 'KORAMANGALA', 'CORPORATE')\n",
      "('HDFC_02', 'HDFC', 'KORAMANGALA', 'RETAIL')\n",
      "('HDFC_03', 'HDFC', 'SILK BOARD', 'CORPORATE')\n",
      "('HDFC_04', 'HDFC', 'SILK BOARD', 'RETAIL')\n",
      "('HDFC_05', 'HDFC', 'MARATHALLI', 'CORPORATE')\n",
      "('HDFC_06', 'HDFC', 'MARATHALLI', 'RETAIL')\n",
      "('HDFC_07', 'HDFC', 'WHITEFIELD', 'CORPORATE')\n",
      "('HDFC_08', 'HDFC', 'WHITEFIELD', 'RETAIL')\n",
      "('ICICI_01', 'ICICI', 'KORAMANGALA', 'CORPORATE')\n",
      "('ICICI_02', 'ICICI', 'KORAMANGALA', 'RETAIL')\n",
      "('ICICI_03', 'ICICI', 'SILK BOARD', 'CORPORATE')\n",
      "('ICICI_04', 'ICICI', 'SILK BOARD', 'RETAIL')\n",
      "('ICICI_05', 'ICICI', 'MARATHALLI', 'CORPORATE')\n",
      "('ICICI_06', 'ICICI', 'MARATHALLI', 'RETAIL')\n",
      "('KOTAK_01', 'KOTAK', 'KORAMANGALA', 'CORPORATE')\n",
      "('KOTAK_02', 'KOTAK', 'KORAMANGALA', 'RETAIL')\n",
      "('KOTAK_03', 'KOTAK', 'SILK BOARD', 'CORPORATE')\n",
      "('KOTAK_04', 'KOTAK', 'SILK BOARD', 'RETAIL')\n",
      "('KOTAK_05', 'KOTAK', 'MARATHALLI', 'CORPORATE')\n",
      "('KOTAK_06', 'KOTAK', 'MARATHALLI', 'RETAIL')\n",
      "('SBI_01', 'SBI', 'KORAMANGALA', 'CORPORATE')\n",
      "('SBI_02', 'SBI', 'KORAMANGALA', 'RETAIL')\n",
      "('SBI_03', 'SBI', 'SILK BOARD', 'CORPORATE')\n",
      "('SBI_04', 'SBI', 'SILK BOARD', 'RETAIL')\n",
      "('SBI_05', 'SBI', 'MARATHALLI', 'CORPORATE')\n",
      "('SBI_06', 'SBI', 'MARATHALLI', 'RETAIL')\n",
      "('SBI_07', 'SBI', 'WHITEFIELD', 'CORPORATE')\n",
      "('SBI_08', 'SBI', 'WHITEFIELD', 'RETAIL')\n",
      "('SBI_09', 'SBI', 'INDRA NAGAR', 'CORPORATE')\n",
      "('SBI_10', 'SBI', 'INDRA NAGAR', 'RETAIL')\n"
     ]
    }
   ],
   "source": [
    "cursor.execute('SELECT * FROM BRANCH_DETAILS')\n",
    "records = cursor.fetchall()\n",
    "print(cursor.column_names)\n",
    "for i in records:\n",
    "    print(i)"
   ]
  },
  {
   "cell_type": "code",
   "execution_count": 45,
   "metadata": {},
   "outputs": [],
   "source": [
    "connection.commit()"
   ]
  },
  {
   "cell_type": "code",
   "execution_count": 46,
   "metadata": {},
   "outputs": [],
   "source": [
    "cursor.execute('ALTER TABLE CUSTOMERS ADD FOREIGN KEY (BRID) REFERENCES BRANCH_DETAILS(BRID)')"
   ]
  },
  {
   "cell_type": "code",
   "execution_count": 48,
   "metadata": {},
   "outputs": [],
   "source": [
    "cursor.execute('SET FOREIGN_KEY_CHECKS=0;')"
   ]
  },
  {
   "cell_type": "code",
   "execution_count": 49,
   "metadata": {},
   "outputs": [],
   "source": [
    "cursor.execute('ALTER TABLE BRANCH_DETAILS ADD FOREIGN KEY (BID) REFERENCES BANK_DETAILS(BID)')"
   ]
  },
  {
   "cell_type": "code",
   "execution_count": 50,
   "metadata": {},
   "outputs": [],
   "source": [
    "connection.commit()"
   ]
  },
  {
   "cell_type": "code",
   "execution_count": null,
   "metadata": {},
   "outputs": [],
   "source": []
  }
 ],
 "metadata": {
  "kernelspec": {
   "display_name": "Python 3",
   "language": "python",
   "name": "python3"
  },
  "language_info": {
   "codemirror_mode": {
    "name": "ipython",
    "version": 3
   },
   "file_extension": ".py",
   "mimetype": "text/x-python",
   "name": "python",
   "nbconvert_exporter": "python",
   "pygments_lexer": "ipython3",
   "version": "3.8.5"
  }
 },
 "nbformat": 4,
 "nbformat_minor": 4
}
